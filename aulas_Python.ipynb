{
 "cells": [
  {
   "cell_type": "markdown",
   "metadata": {},
   "source": [
    "#### Desafios operados aritméticos\n",
    "Quantos % do salário esta comprometido com as despesas"
   ]
  },
  {
   "cell_type": "code",
   "execution_count": 3,
   "metadata": {},
   "outputs": [
    {
     "name": "stdout",
     "output_type": "stream",
     "text": [
      "Seu salário é 3500.0, suas despesas é 2200.0, 62.857142857142854% do seu salário é destinado para suas contas\n"
     ]
    }
   ],
   "source": [
    "salario = float(input(\"Digite o seu salário: \"))\n",
    "despesas = float(input(\"Digite o total das sua despesas: \"))\n",
    "porcentagem = (despesas * 100) / salario\n",
    "print(f'Seu salário é {salario}, suas despesas é {despesas}, {porcentagem}% do seu salário é destinado para suas contas')"
   ]
  },
  {
   "cell_type": "markdown",
   "metadata": {},
   "source": [
    "#### Operadores Relacionais\n",
    "'> maior <p>\n",
    "'>= maior ou igual<p>\n",
    "'< menor<p>\n",
    "'<= menor ou igual<p>\n",
    "'!= diferente<p>\n",
    "'== igual<p>"
   ]
  },
  {
   "cell_type": "code",
   "execution_count": null,
   "metadata": {},
   "outputs": [
    {
     "data": {
      "text/plain": [
       "True"
      ]
     },
     "execution_count": 6,
     "metadata": {},
     "output_type": "execute_result"
    }
   ],
   "source": [
    "4 > 3 # 4 é maior que 3\n",
    "4 >= 4 # 4 é maior ou igual que 4\n",
    "\n",
    "3 < 4 # 3 é menor que 4\n",
    "4 <= 4 # 3 é menor ou igual que 4\n",
    "\n",
    "3 != 4 # 3 é diferente de 4\n",
    "\n",
    "2 == 2 # \n"
   ]
  },
  {
   "cell_type": "markdown",
   "metadata": {},
   "source": [
    "#### Operadores de Atribuição\n"
   ]
  },
  {
   "cell_type": "code",
   "execution_count": null,
   "metadata": {},
   "outputs": [
    {
     "name": "stdout",
     "output_type": "stream",
     "text": [
      "10\n",
      "15\n",
      "12\n",
      "24\n",
      "6.0\n"
     ]
    }
   ],
   "source": [
    "a = 3\n",
    "a = a + 7\n",
    "print(a)\n",
    "\n",
    "a += 5\n",
    "print(a)\n",
    "\n",
    "a -= 3\n",
    "print(a)\n",
    "\n",
    "a *= 2\n",
    "print(a)\n",
    "\n",
    "a /= 4\n",
    "print(a)\n"
   ]
  },
  {
   "cell_type": "markdown",
   "metadata": {},
   "source": [
    "#### Listas"
   ]
  },
  {
   "cell_type": "code",
   "execution_count": 39,
   "metadata": {},
   "outputs": [
    {
     "name": "stdout",
     "output_type": "stream",
     "text": [
      "20\n"
     ]
    },
    {
     "data": {
      "text/plain": [
       "['Bia', 'Ana', 5, 1]"
      ]
     },
     "execution_count": 39,
     "metadata": {},
     "output_type": "execute_result"
    }
   ],
   "source": [
    "list = []\n",
    "\n",
    "# type(list)\n",
    "# dir(list)\n",
    "# help(list)\n",
    "for i in range(1, 21):\n",
    "    list.append(i)\n",
    "\n",
    "print(len(list))\n",
    "nova_lista = [1, 5, 'Ana', 'Bia']\n",
    "#nova_lista.remove('Ana')\n",
    "nova_lista.reverse()\n",
    "nova_lista\n"
   ]
  },
  {
   "cell_type": "code",
   "execution_count": 47,
   "metadata": {},
   "outputs": [
    {
     "name": "stdout",
     "output_type": "stream",
     "text": [
      "1\n",
      "5\n",
      "Rebeca\n",
      "Guilherme\n",
      "3.1415\n"
     ]
    }
   ],
   "source": [
    "list = [1, 5, 'Rebeca', 'Guilherme', 3.1415]\n",
    "list.index('Guilherme')\n",
    "list[2]\n",
    "1 in list\n",
    "'Rebeca' in list\n",
    "'Pedro' not in list\n",
    "\n",
    "for i in range(0, len(list)):\n",
    "    print(list[i])"
   ]
  },
  {
   "cell_type": "markdown",
   "metadata": {},
   "source": [
    "#### Tupla"
   ]
  },
  {
   "cell_type": "code",
   "execution_count": 55,
   "metadata": {},
   "outputs": [
    {
     "data": {
      "text/plain": [
       "tuple"
      ]
     },
     "execution_count": 55,
     "metadata": {},
     "output_type": "execute_result"
    }
   ],
   "source": [
    "tupla = ()\n",
    "# type(tupla)\n",
    "# dir(tupla)\n",
    "tupla = ('Cris',)\n",
    "type(tupla)\n"
   ]
  }
 ],
 "metadata": {
  "interpreter": {
   "hash": "0a4e7dec50dcb3da36d1f84348cbcfab3ed38e37975c7411d473f52ebe5dc610"
  },
  "kernelspec": {
   "display_name": "Python 3.10.4 64-bit",
   "language": "python",
   "name": "python3"
  },
  "language_info": {
   "codemirror_mode": {
    "name": "ipython",
    "version": 3
   },
   "file_extension": ".py",
   "mimetype": "text/x-python",
   "name": "python",
   "nbconvert_exporter": "python",
   "pygments_lexer": "ipython3",
   "version": "3.10.4"
  },
  "orig_nbformat": 4
 },
 "nbformat": 4,
 "nbformat_minor": 2
}
